{
 "cells": [
  {
   "cell_type": "markdown",
   "metadata": {},
   "source": [
    "Please see my [blog post](https://genomejigsaw.wordpress.com/2015/09/09/building-phylogenetic-trees-with-binary-traits/) for an introduction to this algorithm.\n",
    "\n",
    "## Perfect phylogeny and the Gusfield algorithm\n",
    "\n",
    "Let's say we have a matrix _M_ with _n_ (rows of) samples and _m_ (columns of) some kind of variation, which we denote by the presence (1) or absence (0) of a trait. This might represent the presence of a particular homozygous or heterozygous genotype (e.g. 1 = AA or BB, 0 = AB), or a non-sequence based trait such as the status of DNA methylation (e.g. 1 = methylated, 0 = unmethylated.) The table below shows such a matrix where C1 - C10 denotes one particular feature across the different sample groups or individuals: S1 - S4.\n",
    "\n",
    "|    | C1 | C2 | C3 | C4 | C5 | C6 | C7 | C8 | C9 | C10 |\n",
    "|----|----|----|----|----|----|----|----|----|----|-----|\n",
    "| S1 | 1  | 1  | 1  | 1  | 0  | 1  | 1  | 1  | 1  | 1   |\n",
    "| S2 | 0  | 1  | 1  | 1  | 0  | 0  | 0  | 1  | 0  | 1   |\n",
    "| S3 | 0  | 1  | 1  | 1  | 0  | 0  | 0  | 0  | 0  | 0   |\n",
    "| S4 | 0  | 0  | 1  | 0  | 1  | 0  | 0  | 0  | 0  | 0   |\n",
    "\n",
    "The Gusfield algorithm implements a test that determines whether a matrix of traits can be represented as a phylogenetic tree. This is called the test for a 'perfect phylogeny', where this is defined as a tree _T_ where:\n",
    "\n",
    "1. each variation (or group of variations with identical column values) corresponds to at most one edge\n",
    "2. each sample has at most one leaf\n",
    "3. there is a unique path of edges to any one leaf\n",
    "\n",
    "To implement this test on a matrix of binary features, we perform the following operations:\n",
    "\n",
    "The presence of a perfect phylogeny simply denotes that we are able to construct a valid phylogenetic tree where all features evolve down the tree, and ancestral features are not spontaneously re-acquired. To implement the test for perfect phylogeny on a matrix of binary features, we perform the following operations:\n",
    "\n",
    "* Each column in _m_ is evaluated as its binary number (so for instance, the column C1 with a value 1000 becomes 8; see here for a description of binary numbers.) These values are then sorted in decreasing order to determine the column orders. We discard duplicated columns. Let’s call this matrix _M_' (M prime.)\n",
    "* Now we construct a new matrix _k_, where each row corresponds to the features present for each sample. Once all the features have been listed, we terminate with a ‘#’ and append 0s for the end of the row.\n",
    "* Build the corresponding tree from the matrix and remove the terminating ‘#’ edges\n",
    "* Test for the 3 criteria of a perfect phylogeny.\n",
    "\n",
    "To create our _M_' matrix of the feature matrix shown above, we code this up in python like so:"
   ]
  },
  {
   "cell_type": "code",
   "execution_count": 2,
   "metadata": {
    "collapsed": false
   },
   "outputs": [
    {
     "name": "stdout",
     "output_type": "stream",
     "text": [
      "[[1 1 1 0 0]\n",
      " [1 1 0 0 0]\n",
      " [1 0 0 1 0]\n",
      " [0 0 0 0 1]]\n"
     ]
    }
   ],
   "source": [
    "import numpy as np\n",
    "m = np.array([[1, 1, 0, 1, 0, 1, 1, 1, 1, 1],\n",
    "              [0, 1, 0, 1, 0, 0, 0, 1, 0, 1],\n",
    "              [0, 1, 1, 1, 0, 0, 0, 0, 0, 0],\n",
    "              [0, 0, 0, 0, 1, 0, 0, 0, 0, 0]])\n",
    "\n",
    "# rotate M for convenient iteration\n",
    "m_prime = np.rot90(m)\n",
    "\n",
    "# keep only unique combinations\n",
    "m_prime = np.unique(map(lambda x: '.'.join(map(str,x)),m_prime))\n",
    "m_prime = np.array(map(lambda x: map(int,x.split('.')),m_prime))\n",
    "\n",
    "# count binary score of columns\n",
    "binary_strings = []\n",
    "for col in m_prime:\n",
    "    col_string = '0b'+''.join(map(str,col))\n",
    "    binary_strings.append(int(col_string,2))\n",
    "    \n",
    "# sort by binary score\n",
    "order = np.argsort(binary_strings)[::-1]\n",
    "m_prime = m_prime[order] \n",
    "\n",
    "m_prime = np.rot90(m_prime[:,:])[::-1] #rotate again\n",
    "print(m_prime)"
   ]
  },
  {
   "cell_type": "markdown",
   "metadata": {},
   "source": [
    "To test if a perfect phylogeny exists, we must now construct a matrix _k_ which shows the path of edges for each sample (or leaf.) We make the following transition to turn our matrix _M_' into _k_,  This involves listing the features present in each row and then terminating with a '#', followed by 0s."
   ]
  },
  {
   "cell_type": "code",
   "execution_count": 3,
   "metadata": {
    "collapsed": false
   },
   "outputs": [
    {
     "name": "stdout",
     "output_type": "stream",
     "text": [
      "[['a' 'b' 'c' '#' '0']\n",
      " ['a' 'b' '#' '0' '0']\n",
      " ['a' 'd' '#' '0' '0']\n",
      " ['e' '#' '0' '0' '0']]\n"
     ]
    }
   ],
   "source": [
    "import string\n",
    "\n",
    "ncol = len(m_prime[0])\n",
    "k = np.empty( [0,ncol], dtype='|S15' )\n",
    "features = np.array(list(string.ascii_lowercase[:ncol]))\n",
    "\n",
    "for m in m_prime:\n",
    "    row_feats = features[m!=0] #features in the row\n",
    "    mrow = np.zeros(ncol,dtype='|S15')\n",
    "    mrow.fill('0')\n",
    "\n",
    "    for idx,feature in enumerate(row_feats):\n",
    "        mrow[idx] = feature\n",
    "\n",
    "    n_feat = len(row_feats)    \n",
    "    if n_feat < ncol: \n",
    "        mrow[n_feat]='#'\n",
    "\n",
    "    k = np.append(k,[mrow],axis=0)\n",
    "\n",
    "print(k)"
   ]
  },
  {
   "cell_type": "markdown",
   "metadata": {},
   "source": [
    "A perfect phylogeny can now be found if each leaf has a unique vector. One way to write this in code, is to determine whether any ‘features’ (a,b,c etc.) are repeated in 1 or more columns of matrix _k_. Note that the fact that we remove any duplicate columns in an earlier step takes care of the need to test for unique vectors of features leading to each leaf."
   ]
  },
  {
   "cell_type": "code",
   "execution_count": 4,
   "metadata": {
    "collapsed": false
   },
   "outputs": [
    {
     "name": "stdout",
     "output_type": "stream",
     "text": [
      "Success! Found phylogeny!\n"
     ]
    }
   ],
   "source": [
    "locations = []\n",
    "for feature in features:\n",
    "    present_at = set([])\n",
    "    for k_i in k:\n",
    "        [ present_at.add(loc_list) for loc_list in list(np.where(k_i==feature)[0]) ]\n",
    "    locations.append(present_at)\n",
    "\n",
    "loc_test = np.array([len(loc_list)>1 for loc_list in locations])\n",
    "if np.any(loc_test):\n",
    "    print 'No phylogeny found!'\n",
    "else:    \n",
    "    print 'Success! Found phylogeny!'"
   ]
  }
 ],
 "metadata": {
  "kernelspec": {
   "display_name": "Python 2",
   "language": "python",
   "name": "python2"
  },
  "language_info": {
   "codemirror_mode": {
    "name": "ipython",
    "version": 2
   },
   "file_extension": ".py",
   "mimetype": "text/x-python",
   "name": "python",
   "nbconvert_exporter": "python",
   "pygments_lexer": "ipython2",
   "version": "2.7.5"
  }
 },
 "nbformat": 4,
 "nbformat_minor": 0
}
