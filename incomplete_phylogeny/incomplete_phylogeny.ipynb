{
 "cells": [
  {
   "cell_type": "markdown",
   "metadata": {},
   "source": [
    "## The issue with perfect phylogenies\n",
    "\n",
    "Previously, I wrote [a blog post](https://genomejigsaw.wordpress.com/2015/09/09/building-phylogenetic-trees-with-binary-traits/), exploring an algorithm for building phylogenetic trees from binary traits. While the algorithm works well if you happen to have a clean matrix that just-so happes to form a perfect phylogeny, if you experiment with different matrix permutations of 1s and 0s, you'll quickly find that matrices which create perfect phylogenies are scarce. In fact, if there are any pairs of columns \\[C1,C2\\] have the values \\[0,1\\], \\[1,0\\] and \\[1,1\\], then a perfect phylogeny cannot be built. Imperfect data sources and noisy data can contribute to these difficulties of building a valid phylogeny. To allow for some slack for running the phylogeny-finding algorithm, one option is to use the imperfect phylogeny algorithm, an algorithm implemented in near-linear time, described in a [paper by Pe'er et al.](http://epubs.siam.org/doi/abs/10.1137/S0097539702406510) (unfortunately, the paper is pay-walled). I will explain and implement this algorithm in code in this post. If you're after the mathematical proofs, refer to the original paper. \n",
    "\n",
    "In modelling phylogenetic trees from binary data, it is unlikely that you'll have absolute certainty in observing data values. In my early experiments of my PhD project, I was utilising the [Gusfield algorithm](http://carolineuhler.com/paperCS.pdf) for [structural variation](http://www.ncbi.nlm.nih.gov/dbvar/content/overview/) data in multiple samples of the same cancer patient. In my case, observing the same structural variation across several tumour samples of the same patient gave me high confidence that the variation existed. However, I was much less confident when I did _not_ see variant in one patient sample, when it was clearly in others. Thus, my '1's were certain, but my '0's were uncertain. In my case, there were several reasons why we might not see a variant in a particular sample (maybe the [depth of coverage](https://en.wikipedia.org/wiki/Deep_sequencing) was too low, or the sample had a lot of normal tissue contamination). In this case, I could mark the rows of my low-quality samples with 'incomplete' or unknown values where SVs were not found. This strategy allowed me to find valid phylogenies where previously they failed to be built. "
   ]
  },
  {
   "cell_type": "markdown",
   "metadata": {},
   "source": [
    "## The incomplete phylogeny problem\n",
    "\n",
    "In our feature matrix, we now allow a third feature type - unknown or incomplete, denoted by '?'. Hence our values can be 0, 1 or ? for any cell. The incomplete phylogeny algorithm will then infer the missing values by determining whether the sample belongs to the 'clade' associated with the feature - the clade being the evolutionary group with a common ancestor, that the sample/species evolved from. \n",
    "\n",
    "The algorithm will output a perfect phylogeny tree _T_ (if present), as well as the corresponding completed matrix _M_. The following steps are involved:\n",
    "\n",
    "1. Remove any columns in our matrix _M_ with no 0s or all 0s.\n",
    "2. Construct a graph where 1s represent edges between features (columns) and samples (rows).\n",
    "3. Get each set of connections where there are >1 connections in the graph (call these _K_), for each _K_ do:\n",
    "\n",
    "    i. get all the samples in _K_, call this _S'_\n",
    "    \n",
    "    ii. for this set of _S'_, get all the features where there are no 0 entries, call this _U_\n",
    "    \n",
    "    iii. if there are no elements in _U_, stop\n",
    "    \n",
    "    iv. otherwise remove _U_ from the graph, and add _S'_ to our tree _T_\n",
    "\n",
    "To implement the algoprithm, Let's work from the following matrix:\n",
    "\n",
    "|    | C1 | C2 | C3 | C4 | C5 |\n",
    "|----|----|----|----|----|----|\n",
    "| S1 | 1  | 1  | 0  | 0  | ?  |\n",
    "| S2 | 0  | ?  | 1  | 0  | ?  |\n",
    "| S3 | 1  | ?  | 0  | 0  | 1  |\n",
    "| S4 | 0  | 0  | 1  | 1  | ?  |\n",
    "| S5 | 0  | 1  | 0  | 0  | ?  |\n",
    "\n",
    "\n",
    "There are no columns with all 0s or no 0s, so we do not need to discard any columns. We will now transform this matrix into a graph, creating connections between the nodes, $C$s and $S$s. Where a $C$ and $S$ share a value of '1', we draw an edge between them. To do this, we first code up an graph implementation, with nodes and vertices. One approach can be found [here](http://interactivepython.org/runestone/static/cs22-lbcc/Graphs/graphintro.html) - the base graph code, as well as the _M_ Graph implementation are in the mgraph.py file in this repository."
   ]
  },
  {
   "cell_type": "code",
   "execution_count": 1,
   "metadata": {
    "collapsed": false
   },
   "outputs": [],
   "source": [
    "from mgraph import MGraph"
   ]
  },
  {
   "cell_type": "markdown",
   "metadata": {},
   "source": [
    "We now need some helper methods to help build our graph. The _build_\\__graph_ function below creates a node for each of our $S$ and $C$ values, and connects them with an edge if the corresponding $(S_i,C_j$) cell contains a 1. We then define a function _get_\\__edge_\\__pairs_ to get all the pairwise connections between the nodes. \n",
    "\n",
    "We now build our arrays for our $S$s and $C$s, as well as or _M_ matrix. Let's use -1 to represent the 'incomplete' state of our matrix. "
   ]
  },
  {
   "cell_type": "code",
   "execution_count": 2,
   "metadata": {
    "collapsed": false
   },
   "outputs": [
    {
     "name": "stdout",
     "output_type": "stream",
     "text": [
      "Nodes in our graph\n",
      "['s3', 's2', 's1', 's5', 's4', 'c3', 'c2', 'c1', 'c4']\n",
      "\n",
      "Connections between out nodes\n",
      "[['s3', 'c1'], ['s2', 'c3'], ['s1', 'c1'], ['s1', 'c2'], ['s5', 'c2'], ['s4', 'c4'], ['s4', 'c3']]\n"
     ]
    }
   ],
   "source": [
    "from mgraph import MGraph\n",
    "import numpy as np\n",
    "\n",
    "s = np.array(['s1','s2','s3','s4','s5'])\n",
    "c = np.array(['c1','c2','c3','c4','c5'])\n",
    "m = np.array([[ 1,  1,  0,  0, -1],\n",
    "              [ 0, -1,  1,  0, -1],\n",
    "              [ 1, -1,  0,  0,  1],\n",
    "              [ 0,  0,  1,  1, -1],\n",
    "              [ 0,  1,  0,  0, -1]])\n",
    "\n",
    "# create working matrix M and column C vector copies\n",
    "m3 = m.copy()\n",
    "c3 = c.copy()\n",
    "\n",
    "# remove any columns where there are no 0 entries\n",
    "mi = np.empty(0,dtype='int')\n",
    "ncol = len(m3[0])\n",
    "idxs_to_delete = [i for i in range(ncol) if not np.any(m3[:,i:i+1]==0)]\n",
    "m3 = np.delete(m3,idxs_to_delete,axis=1)\n",
    "c3 = np.delete(c3,idxs_to_delete)\n",
    "\n",
    "m_graph = MGraph()\n",
    "m_graph.build_graph(m3,s,c3)\n",
    "m_pairs = m_graph.get_edge_pairs()\n",
    "\n",
    "print('Nodes in our graph')\n",
    "print(m_graph.getNodes())\n",
    "\n",
    "print('\\nConnections between out nodes')\n",
    "print(m_graph.get_edge_pairs())"
   ]
  },
  {
   "cell_type": "markdown",
   "metadata": {},
   "source": [
    "The variable m_cons above displays the graph connections between our $S$s and $C$s. We now get the first set of connections in the graph, and determine the K vector (which is the union of all $S$s and $C$s involved in the graph connection). "
   ]
  },
  {
   "cell_type": "code",
   "execution_count": 4,
   "metadata": {
    "collapsed": false
   },
   "outputs": [
    {
     "name": "stdout",
     "output_type": "stream",
     "text": [
      "set(['s3', 'c1'])\n",
      "set(['s3', 'c2', 'c1', 's1', 's5'])\n"
     ]
    }
   ],
   "source": [
    "def get_k(k,q,m_graph):\n",
    "    '''\n",
    "    return the first K vector with E[K] >= 1\n",
    "    (the K vector contains all elements of a chain of connected \n",
    "    vertices with more than just one connection between them)\n",
    "    '''\n",
    "    if not q:\n",
    "        return k\n",
    "    else:\n",
    "        q1 = q.pop()\n",
    "        k.add(q1) \n",
    "        pairs = m_graph.get_pairs_containing(q1)\n",
    "        pairs = set([node for pair in pairs for node in pair]) #flatten set of elements\n",
    "        for node in pairs:\n",
    "            if node not in k:\n",
    "                q.add(node)\n",
    "        return get_k(k,q,m_graph)\n",
    "\n",
    "q = set(m_pairs[0]) #pick the first elements as k\n",
    "print(q)\n",
    "k = get_k(set(),q,m_graph)\n",
    "print(k)"
   ]
  },
  {
   "cell_type": "markdown",
   "metadata": {},
   "source": [
    "Based on the $S$s returned in the connections, we now return the slice of the $M_3$ array, containing the $S$s contained in set $K$. "
   ]
  },
  {
   "cell_type": "code",
   "execution_count": 55,
   "metadata": {
    "collapsed": false
   },
   "outputs": [
    {
     "data": {
      "text/plain": [
       "array([[ 1, -1,  0,  0],\n",
       "       [ 1,  1,  0,  0],\n",
       "       [ 0,  1,  0,  0]])"
      ]
     },
     "execution_count": 55,
     "metadata": {},
     "output_type": "execute_result"
    }
   ],
   "source": [
    "s_prime = set(s).intersection(k)\n",
    "s_indexes = np.array([np.where(s_i==s)[0][0] for s_i in s_prime])\n",
    "m_tmp = m3.copy()[s_indexes]\n",
    "m_tmp"
   ]
  },
  {
   "cell_type": "markdown",
   "metadata": {},
   "source": [
    "Now we return our $U$ vector, which is defined as any $C$s where there are no $0$s. "
   ]
  },
  {
   "cell_type": "code",
   "execution_count": 56,
   "metadata": {
    "collapsed": false
   },
   "outputs": [
    {
     "name": "stdout",
     "output_type": "stream",
     "text": [
      "['c2']\n"
     ]
    }
   ],
   "source": [
    "u = []\n",
    "c_in_k = set(c).intersection(k)\n",
    "for c_i in c_in_k:\n",
    "    c_index = np.where(c_i==c3)[0]\n",
    "    m_col = m_tmp[:,c_index:c_index+1]\n",
    "    if np.all(m_col!=0):\n",
    "        cm = np.where(c_i==c3)[0]\n",
    "        u.append(c_i)\n",
    "print(u)"
   ]
  },
  {
   "cell_type": "markdown",
   "metadata": {
    "collapsed": true
   },
   "source": [
    "Now any elements that are in the character columns contained in $U$, *and* in the sample rows contained in $S'$ (i.e. they belong to the same clade), will have any incomplete fields inferred as present. "
   ]
  },
  {
   "cell_type": "code",
   "execution_count": 103,
   "metadata": {
    "collapsed": false
   },
   "outputs": [
    {
     "name": "stdout",
     "output_type": "stream",
     "text": [
      "1\n",
      "Incomplete matrix prior to algorithm step\n",
      "[[ 1  1  0  0]\n",
      " [ 0 -1  1  0]\n",
      " [ 1 -1  0  0]\n",
      " [ 0  0  1  1]\n",
      " [ 0  1  0  0]]\n",
      "\n",
      "Matrix after first round of algorithm\n",
      "[[ 1  1  0  0]\n",
      " [ 0 -1  1  0]\n",
      " [ 1  1  0  0]\n",
      " [ 0  0  1  1]\n",
      " [ 0  1  0  0]]\n"
     ]
    }
   ],
   "source": [
    "m_new = m3.copy()\n",
    "\n",
    "c_indexes = [np.where(c3==x)[0][0] for x in u]\n",
    "for c_idx in c_indexes:\n",
    "    print(c_idx)\n",
    "    m_col = m_new[s_indexes,c_idx:c_idx+1]\n",
    "    if np.any(m_col==-1):\n",
    "        m_col[m_col==-1] = 1\n",
    "        m_new[s_indexes,c_idx:c_idx+1] = m_col\n",
    "        \n",
    "print(\"Incomplete matrix prior to algorithm step\")\n",
    "print(m3)\n",
    "print(\"\\nMatrix after first round of algorithm\")\n",
    "print(m_new)"
   ]
  },
  {
   "cell_type": "markdown",
   "metadata": {},
   "source": [
    "Hence in the above example, the matrix $M_3$ cell corresponding to $S3$ and $C2$ has been inferred to be present (i.e. 1). "
   ]
  },
  {
   "cell_type": "code",
   "execution_count": 12,
   "metadata": {
    "collapsed": false
   },
   "outputs": [
    {
     "name": "stdout",
     "output_type": "stream",
     "text": [
      "[0, set(['s3', 's2', 's1', 's5', 's4']), set(['s3', 's1', 's5'])]\n"
     ]
    }
   ],
   "source": [
    "t = [0,set(s)] #initialiase a tree\n",
    "t.append(s_prime)\n",
    "print(t)"
   ]
  },
  {
   "cell_type": "code",
   "execution_count": null,
   "metadata": {
    "collapsed": true
   },
   "outputs": [],
   "source": [
    "m_graph.remove_nodes_in(u)\n",
    "m_pairs = m_graph.get_edge_pairs()"
   ]
  }
 ],
 "metadata": {
  "kernelspec": {
   "display_name": "Python 2",
   "language": "python",
   "name": "python2"
  },
  "language_info": {
   "codemirror_mode": {
    "name": "ipython",
    "version": 2
   },
   "file_extension": ".py",
   "mimetype": "text/x-python",
   "name": "python",
   "nbconvert_exporter": "python",
   "pygments_lexer": "ipython2",
   "version": "2.7.5"
  }
 },
 "nbformat": 4,
 "nbformat_minor": 0
}
