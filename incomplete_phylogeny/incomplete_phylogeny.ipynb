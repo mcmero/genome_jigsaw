{
 "cells": [
  {
   "cell_type": "markdown",
   "metadata": {},
   "source": [
    "## The problem with perfect phylogenies\n",
    "\n",
    "Previously, I wrote [a blog post](https://genomejigsaw.wordpress.com/2015/09/09/building-phylogenetic-trees-with-binary-traits/), exploring the _Gusfield algorithm_ for building phylogenetic trees from binary traits. While the algorithm works well if you have a clean matrix that just-so happes to form a perfect phylogeny, if you experiment with different matrix permutations of 1s and 0s, you'll quickly find that matrices which create perfect phylogenies are scarce. Indeed, if there are any pairs of columns $[C1,C2]$ that have the values $[0,1]$, $[1,0]$ and $[1,1]$, then a perfect phylogeny cannot be built. Imperfect data sources and noisy data can contribute to the difficulties of building a valid phylogeny. To allow for some slack for running the phylogeny-finding algorithm, one option is to use the _imperfect phylogeny algorithm_, which is described (and implemented in near-linear time) in a [paper by Pe'er et al.](http://epubs.siam.org/doi/abs/10.1137/S0097539702406510) (pay-walled, unfortunately). I will explain and implement this algorithm in code in this post. If you're after the mathematical proofs or description, refer to the original paper, or this, more digestable, [review](http://carolineuhler.com/paperCS.pdf).\n",
    "\n",
    "## A motivation for using the imperfect phylogeny algorithm\n",
    "\n",
    "In modelling phylogenetic trees from binary data, it is unlikely that you'll have absolute certainty in observing data values. In my early experiments of my PhD project, I was utilising the Gusfield algorithm for [structural variation](http://www.ncbi.nlm.nih.gov/dbvar/content/overview/) (SV) data in multiple tumour biopsies from the same patient. In my case, observing the same structural variation across several tumour samples of the same patient gave me high confidence that the variation existed. However, I was much less confident when I did _not_ see variant in one patient sample, when it was clearly present in others. Thus, my '1's were certain, but my '0's were uncertain. In the case of structural variants, there are several reasons why we might not detect a variant in a particular sample (the [depth of coverage](https://en.wikipedia.org/wiki/Deep_sequencing) may be too low, or the sample may have a low amount of tumour content). In this case, when I constructed my matrix of shared SV events, I would mark the rows of my low-quality samples with 'incomplete' (unknown) values to represent this uncertainty. This strategy allowed me to find valid phylogenies where previously they could not be found."
   ]
  },
  {
   "cell_type": "markdown",
   "metadata": {},
   "source": [
    "## The incomplete phylogeny problem\n",
    "\n",
    "In our feature matrix, we now allow a third feature type - unknown or incomplete, denoted by '?'. Hence our values can be 0, 1 or ? for any cell. The incomplete phylogeny algorithm will then infer the unknown values by determining whether the sample belongs to the 'clade' associated with the feature - the clade being the evolutionary group with a common ancestor, that the sample/species evolved from. \n",
    "\n",
    "The algorithm will output a perfect phylogeny tree $T$ (if present), as well as the corresponding completed matrix $M$. The algorithm is composed of the following steps:\n",
    "\n",
    "1. Remove any columns in our matrix $M$ with no 0s or all 0s.\n",
    "2. Construct a graph where 1s represent edges between features (columns) and samples (rows).\n",
    "3. Get each set of connections where there are >1 connections (call these _K_) in the graph $G$, for each _K_ (while $G \\neq \\emptyset$):\n",
    "\n",
    "    i. get all the samples ($S$ or rows) in $K$, call this $S'$.\n",
    "    \n",
    "    ii. for this set of $S'$, get all the features ($C$ or columns) where there are no 0 entries, call this $U$.\n",
    "    \n",
    "    iii. if there are no elements in $U$, stop.\n",
    "    \n",
    "    iv. otherwise remove $U$ from the graph $G$ (also removing any connections), and add $S'$ to our tree $T$.\n",
    "       \n",
    "4. For any $C$s that are _associated_ with the clade $S$ (a group is $S$s), set these to 1, otherwise 0.\n",
    "5. Return $T$ and $M'$.\n",
    "\n",
    "The vector $T$ now represents our phylogenetic tree. This represents the clades that are present in our tree. For instance, if $T = \\{\\{s1,s2,s3,s4\\},\\{s1,s2\\},\\{s3,s4\\}\\}$, this means that our 'super-clade' has 4 elements, $\\{s1,s2,s3,s4\\}$, and two clades consisting of $\\{s1,s2\\}$ and $\\{s3,s4\\}$, which are more related than the other pairs. The tree could be drawn as:\n",
    "\n",
    "                                                        /\\\n",
    "                                                       /  \\\n",
    "                                                      /    \\\n",
    "                                                     /\\    /\\\n",
    "                                                    /  \\  /  \\\n",
    "                                                   s2 s2  s3 s4\n",
    "\n",
    "To implement the algorithm, Let's work from the following matrix (already sorted by its binary values, see [previous post](https://genomejigsaw.wordpress.com/2015/09/09/building-phylogenetic-trees-with-binary-traits/) for more info):\n",
    "\n",
    "|    | C1 | C2 | C3 | C4 | C5 |\n",
    "|----|----|----|----|----|----|\n",
    "| S1 | 1  | 1  | 0  | 0  | ?  |\n",
    "| S2 | 0  | ?  | 1  | 0  | ?  |\n",
    "| S3 | 1  | ?  | 0  | 0  | 1  |\n",
    "| S4 | 0  | 0  | 1  | 1  | ?  |\n",
    "| S5 | 0  | 1  | 0  | 0  | ?  |\n",
    "\n",
    "\n",
    "We will now transform this matrix into a graph, creating connections between the nodes, $C$s and $S$s. Edges are defined where $C$ and $S$ share a value of '1'. To do this, we first code up an graph implementation, with nodes and edges. One approach can be found [here](http://interactivepython.org/runestone/static/cs22-lbcc/Graphs/graphintro.html) - the base graph code, as well as the $M$ Graph implementation are in the mgraph.py file in this repository."
   ]
  },
  {
   "cell_type": "code",
   "execution_count": 12,
   "metadata": {
    "collapsed": false
   },
   "outputs": [],
   "source": [
    "from mgraph import MGraph"
   ]
  },
  {
   "cell_type": "markdown",
   "metadata": {},
   "source": [
    "We now build our arrays for our $S$s and $C$s, as well as or _M_ matrix. Let's use -1 to represent the 'incomplete' state of our matrix. "
   ]
  },
  {
   "cell_type": "code",
   "execution_count": 13,
   "metadata": {
    "collapsed": false
   },
   "outputs": [
    {
     "name": "stdout",
     "output_type": "stream",
     "text": [
      "Nodes in our graph\n",
      "['s3', 's2', 's1', 's5', 's4', 'c3', 'c2', 'c1', 'c4']\n",
      "\n",
      "Pairwise connections between out nodes\n",
      "[['s3', 'c1'], ['s2', 'c3'], ['s1', 'c1'], ['s1', 'c2'], ['s5', 'c2'], ['s4', 'c3'], ['s4', 'c4']]\n"
     ]
    }
   ],
   "source": [
    "from mgraph import MGraph\n",
    "import numpy as np\n",
    "\n",
    "s = np.array(['s1','s2','s3','s4','s5'])\n",
    "c = np.array(['c1','c2','c3','c4','c5'])\n",
    "m = np.array([[ 1,  1,  0,  0, -1],\n",
    "              [ 0, -1,  1,  0, -1],\n",
    "              [ 1, -1,  0,  0,  1],\n",
    "              [ 0,  0,  1,  1, -1],\n",
    "              [ 0,  1,  0,  0, -1]])\n",
    "\n",
    "# create working matrix M and column C vector copies\n",
    "m3 = m.copy()\n",
    "c3 = c.copy()\n",
    "\n",
    "# remove any columns where there are no 0 entries\n",
    "mi = np.empty(0,dtype='int')\n",
    "ncol = len(m3[0])\n",
    "idxs_to_delete = [i for i in range(ncol) if not np.any(m3[:,i:i+1]==0)]\n",
    "m3 = np.delete(m3,idxs_to_delete,axis=1)\n",
    "c3 = np.delete(c3,idxs_to_delete)\n",
    "\n",
    "m_graph = MGraph()\n",
    "m_graph.build_graph(m3,s,c3)\n",
    "m_pairs = m_graph.get_edge_pairs()\n",
    "\n",
    "print('Nodes in our graph')\n",
    "print(m_graph.getNodes())\n",
    "\n",
    "print('\\nPairwise connections between out nodes')\n",
    "print(m_graph.get_edge_pairs())"
   ]
  },
  {
   "cell_type": "markdown",
   "metadata": {},
   "source": [
    "The variable m_pairs (above) displays the graph connections between our $S$s and $C$s. We now get the first set of connections in the graph, and determine the $K$ vector (which is the union of all $S$s and $C$s involved in the graph connection). Below is a drawing of the graph connections between the $S$ and $C$ nodes. I have colour-coded the connections corresponding to contigous sets of connections - these will correspond to the clades, as we will discover through the algorithm."
   ]
  },
  {
   "cell_type": "code",
   "execution_count": 22,
   "metadata": {
    "collapsed": false
   },
   "outputs": [
    {
     "data": {
      "image/png": "[encoded data removed]",
      "text/plain": [
       "<IPython.core.display.Image object>"
      ]
     },
     "execution_count": 22,
     "metadata": {},
     "output_type": "execute_result"
    }
   ],
   "source": [
    "from IPython.display import Image\n",
    "Image(filename='m3_graph.png')"
   ]
  },
  {
   "cell_type": "markdown",
   "metadata": {},
   "source": [
    "To illustrate the algorithm step by step, we will do one full iteration of step 3."
   ]
  },
  {
   "cell_type": "code",
   "execution_count": 14,
   "metadata": {
    "collapsed": false
   },
   "outputs": [
    {
     "name": "stdout",
     "output_type": "stream",
     "text": [
      "set(['s3', 'c1'])\n",
      "set(['s3', 'c2', 'c1', 's1', 's5'])\n"
     ]
    }
   ],
   "source": [
    "def get_k(k,q,m_graph):\n",
    "    '''\n",
    "    return the first K vector with E[K] >= 1\n",
    "    (the K vector contains all elements of a chain of connected \n",
    "    vertices with more than just one connection between them)\n",
    "    '''\n",
    "    if not q:\n",
    "        return k\n",
    "    else:\n",
    "        q1 = q.pop()\n",
    "        k.add(q1) \n",
    "        pairs = m_graph.get_pairs_containing(q1)\n",
    "        pairs = set([node for pair in pairs for node in pair]) #flatten set of elements\n",
    "        for node in pairs:\n",
    "            if node not in k:\n",
    "                q.add(node)\n",
    "        return get_k(k,q,m_graph)\n",
    "\n",
    "q = set(m_pairs[0]) #pick the first elements as k\n",
    "print(q)\n",
    "k = get_k(set(),q,m_graph)\n",
    "print(k)"
   ]
  },
  {
   "cell_type": "markdown",
   "metadata": {},
   "source": [
    "Based on the $S$s returned in the connections ($K \\cup S'$), we now return the slice of the $M_3$ array, on the rows in $S'$."
   ]
  },
  {
   "cell_type": "code",
   "execution_count": 15,
   "metadata": {
    "collapsed": false
   },
   "outputs": [
    {
     "data": {
      "text/plain": [
       "array([[ 1, -1,  0,  0],\n",
       "       [ 1,  1,  0,  0],\n",
       "       [ 0,  1,  0,  0]])"
      ]
     },
     "execution_count": 15,
     "metadata": {},
     "output_type": "execute_result"
    }
   ],
   "source": [
    "s_prime = set(s).intersection(k)\n",
    "s_indexes = np.array([np.where(s_i==s)[0][0] for s_i in s_prime])\n",
    "m_tmp = m3.copy()[s_indexes]\n",
    "m_tmp"
   ]
  },
  {
   "cell_type": "markdown",
   "metadata": {},
   "source": [
    "Now we return our $U$ vector, which is defined as any $C$s where there are no $0$s (of the above slice). "
   ]
  },
  {
   "cell_type": "code",
   "execution_count": 16,
   "metadata": {
    "collapsed": false
   },
   "outputs": [
    {
     "name": "stdout",
     "output_type": "stream",
     "text": [
      "['c2']\n"
     ]
    }
   ],
   "source": [
    "u = []\n",
    "c_in_k = set(c).intersection(k)\n",
    "for c_i in c_in_k:\n",
    "    c_index = np.where(c_i==c3)[0]\n",
    "    m_col = m_tmp[:,c_index:c_index+1]\n",
    "    if np.all(m_col!=0):\n",
    "        cm = np.where(c_i==c3)[0]\n",
    "        u.append(c_i)\n",
    "print(u)"
   ]
  },
  {
   "cell_type": "markdown",
   "metadata": {
    "collapsed": true
   },
   "source": [
    "Now any elements that are in the character columns contained in $U$, *and* in the sample rows contained in $S'$ (i.e. they belong to the same clade), will have any incomplete fields inferred as present. (This is skipping ahead to step 4, but this is just to demonstrate.)"
   ]
  },
  {
   "cell_type": "code",
   "execution_count": 17,
   "metadata": {
    "collapsed": false
   },
   "outputs": [
    {
     "name": "stdout",
     "output_type": "stream",
     "text": [
      "Incomplete matrix prior to algorithm step\n",
      "[[ 1  1  0  0]\n",
      " [ 0 -1  1  0]\n",
      " [ 1 -1  0  0]\n",
      " [ 0  0  1  1]\n",
      " [ 0  1  0  0]]\n",
      "\n",
      "Matrix after first round of algorithm\n",
      "[[ 1  1  0  0]\n",
      " [ 0 -1  1  0]\n",
      " [ 1  1  0  0]\n",
      " [ 0  0  1  1]\n",
      " [ 0  1  0  0]]\n"
     ]
    }
   ],
   "source": [
    "m_new = m3.copy()\n",
    "\n",
    "c_indexes = [np.where(c3==x)[0][0] for x in u]\n",
    "for c_idx in c_indexes:\n",
    "    m_col = m_new[s_indexes,c_idx:c_idx+1]\n",
    "    if np.any(m_col==-1):\n",
    "        m_col[m_col==-1] = 1\n",
    "        m_new[s_indexes,c_idx:c_idx+1] = m_col\n",
    "        \n",
    "print(\"Incomplete matrix prior to algorithm step\")\n",
    "print(m3)\n",
    "print(\"\\nMatrix after first round of algorithm\")\n",
    "print(m_new)"
   ]
  },
  {
   "cell_type": "markdown",
   "metadata": {},
   "source": [
    "Hence in the above example, the matrix $M_3$ cell corresponding to $S3$ and $C2$ has been inferred to be present (i.e. 1). \n",
    "\n",
    "Finally we can put the whole algorithm together. This example follows the example from [this paper](http://carolineuhler.com/paperCS.pdf), which also provides an illustration of the node connections in the \"$\\sum$-free graph\". "
   ]
  },
  {
   "cell_type": "code",
   "execution_count": 18,
   "metadata": {
    "collapsed": false
   },
   "outputs": [
    {
     "name": "stdout",
     "output_type": "stream",
     "text": [
      "k:\n",
      "set(['s3', 'c2', 'c1', 's1', 's5'])\n",
      "S':\n",
      "set(['s3', 's1', 's5'])\n",
      "u:\n",
      "['c2']\n",
      "Tree:\n",
      "[set(['s3', 's2', 's1', 's5', 's4']), set(['s3', 's1', 's5'])]\n",
      "k:\n",
      "set(['s3', 'c1', 's1'])\n",
      "S':\n",
      "set(['s3', 's1'])\n",
      "u:\n",
      "['c1']\n",
      "Tree:\n",
      "[set(['s3', 's2', 's1', 's5', 's4']), set(['s3', 's1', 's5']), set(['s3', 's1'])]\n",
      "k:\n",
      "set(['c3', 's2', 'c4', 's4'])\n",
      "S':\n",
      "set(['s2', 's4'])\n",
      "u:\n",
      "['c3']\n",
      "Tree:\n",
      "[set(['s3', 's2', 's1', 's5', 's4']), set(['s3', 's1', 's5']), set(['s3', 's1']), set(['s2', 's4'])]\n"
     ]
    }
   ],
   "source": [
    "m_graph = MGraph()\n",
    "m_graph.build_graph(m3,s,c3)\n",
    "m_pairs = m_graph.get_edge_pairs()\n",
    "\n",
    "q = set(m_pairs[0]) #pick the first elements as k\n",
    "k = get_k(set(),q,m_graph)\n",
    "t = [set(s)] #initialise a tree\n",
    "\n",
    "while len(m_pairs) > 1:\n",
    "    while len(k) < 3: #\n",
    "        for n in k:\n",
    "            m_graph.delNode(n)\n",
    "        m_pairs = m_graph.get_edge_pairs()\n",
    "        if len(m_pairs) > 1:\n",
    "            q = set(m_pairs[0]) \n",
    "            k = get_k(set(),q,m_graph)\n",
    "        else: \n",
    "            break\n",
    "    \n",
    "    s_prime   = set(s).intersection(k)                \n",
    "    s_indexes = np.array([np.where(s_i==s)[0][0] for s_i in s_prime])\n",
    "    m_tmp     = m3.copy()[s_indexes]\n",
    "\n",
    "    print('k:')\n",
    "    print(k)\n",
    "    print(\"S':\")\n",
    "    print(s_prime)\n",
    "    \n",
    "    u = []\n",
    "    c_in_k  = set(c).intersection(k)\n",
    "    for c_i in c_in_k:\n",
    "        c_index = np.where(c_i==c3)[0]\n",
    "        m_col = m_tmp[:,c_index:c_index+1]\n",
    "        if np.all(m_col!=0):\n",
    "            cm = np.where(c_i==c3)[0]\n",
    "            u.append(c_i)\n",
    "    \n",
    "    if not u:\n",
    "        break\n",
    "    else:\n",
    "        print('u:')\n",
    "        print(u)\n",
    "        t.append(s_prime)\n",
    "        for n in u:\n",
    "            m_graph.delNode(n)\n",
    "        m_pairs = m_graph.get_edge_pairs()\n",
    "        k = get_k(set(),set(m_pairs[0]),m_graph)\n",
    "        print('Tree:')\n",
    "        print(t)"
   ]
  },
  {
   "cell_type": "markdown",
   "metadata": {
    "collapsed": true
   },
   "source": [
    "Hence our final tree looks like:\n",
    "\n",
    "                                                        /\\\n",
    "                                                       /  \\ \n",
    "                                                      /   /\\\n",
    "                                                     /  s5  \\                                                     \n",
    "                                                    /\\      /\\\n",
    "                                                  s2  s4   s3 s1\n"
   ]
  }
 ],
 "metadata": {
  "kernelspec": {
   "display_name": "Python 2",
   "language": "python",
   "name": "python2"
  },
  "language_info": {
   "codemirror_mode": {
    "name": "ipython",
    "version": 2
   },
   "file_extension": ".py",
   "mimetype": "text/x-python",
   "name": "python",
   "nbconvert_exporter": "python",
   "pygments_lexer": "ipython2",
   "version": "2.7.5"
  }
 },
 "nbformat": 4,
 "nbformat_minor": 0
}
